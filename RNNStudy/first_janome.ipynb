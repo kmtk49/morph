{
 "cells": [
  {
   "cell_type": "code",
   "execution_count": null,
   "metadata": {},
   "outputs": [],
   "source": [
    "##　形態素解析　https://www.udemy.com/tensorflow_rnn/learn/v4/t/lecture/7752226?start=31"
   ]
  },
  {
   "cell_type": "code",
   "execution_count": 10,
   "metadata": {},
   "outputs": [],
   "source": [
    "from janome.tokenizer import Tokenizer\n",
    "import zipfile\n",
    "import os.path, urllib.request as request"
   ]
  },
  {
   "cell_type": "code",
   "execution_count": 11,
   "metadata": {},
   "outputs": [],
   "source": [
    "url = \"https://www.aozora.gr.jp/cards/001095/files/49950_ruby_54936.zip\""
   ]
  },
  {
   "cell_type": "code",
   "execution_count": 12,
   "metadata": {},
   "outputs": [],
   "source": [
    "localfile = \"49950_ruby_54936.zip\""
   ]
  },
  {
   "cell_type": "code",
   "execution_count": 13,
   "metadata": {},
   "outputs": [
    {
     "name": "stdout",
     "output_type": "stream",
     "text": [
      "ファイルをDLします\n"
     ]
    }
   ],
   "source": [
    "if not os.path.exists(localfile):\n",
    "    print(\"ファイルをDLします\")\n",
    "    request.urlretrieve(url,localfile)"
   ]
  },
  {
   "cell_type": "code",
   "execution_count": 15,
   "metadata": {},
   "outputs": [],
   "source": [
    "zipfile = zipfile.ZipFile(localfile, 'r')"
   ]
  },
  {
   "cell_type": "code",
   "execution_count": 16,
   "metadata": {},
   "outputs": [],
   "source": [
    "file = zipfile.open('02takachihoni_fuyuame_fureri.txt', 'r')"
   ]
  },
  {
   "cell_type": "code",
   "execution_count": 17,
   "metadata": {},
   "outputs": [],
   "source": [
    "bindata = file.read()"
   ]
  },
  {
   "cell_type": "code",
   "execution_count": 18,
   "metadata": {},
   "outputs": [],
   "source": [
    "textdata = bindata.decode('shift_jis')"
   ]
  },
  {
   "cell_type": "code",
   "execution_count": 19,
   "metadata": {},
   "outputs": [],
   "source": [
    "t = Tokenizer()"
   ]
  },
  {
   "cell_type": "code",
   "execution_count": 20,
   "metadata": {},
   "outputs": [],
   "source": [
    "worddic = {}"
   ]
  },
  {
   "cell_type": "code",
   "execution_count": 21,
   "metadata": {},
   "outputs": [],
   "source": [
    "lines = textdata.split(\"\\r\\n\")"
   ]
  },
  {
   "cell_type": "code",
   "execution_count": 22,
   "metadata": {},
   "outputs": [],
   "source": [
    "for line in lines:\n",
    "    malist = t.tokenize(line)\n",
    "    for w in malist:\n",
    "        word = w.surface\n",
    "        part = w.part_of_speech\n",
    "        if part.find('名詞') < 0:\n",
    "            continue\n",
    "        if not word in worddic:\n",
    "            worddic[word] = 0\n",
    "        worddic[word] += 1\n",
    "        \n",
    "            "
   ]
  },
  {
   "cell_type": "code",
   "execution_count": 24,
   "metadata": {},
   "outputs": [
    {
     "name": "stdout",
     "output_type": "stream",
     "text": [
      "の(166)\n",
      "こと(121)\n",
      "もの(92)\n",
      "日向(74)\n",
      "よう(69)\n",
      "土地(53)\n",
      "私(52)\n",
      "それ(50)\n",
      "古墳(39)\n",
      "高千穂(37)\n",
      "人(35)\n",
      "彼ら(35)\n",
      "神楽(34)\n",
      "的(33)\n",
      "伝説(32)\n",
      "ところ(28)\n",
      "一(26)\n",
      "地(24)\n",
      "大(24)\n",
      "さ(23)\n",
      "天皇(23)\n",
      "中(22)\n",
      "人々(21)\n",
      "神様(20)\n",
      "日本(19)\n",
      "たち(19)\n",
      "そう(18)\n",
      "神話(18)\n",
      "方(18)\n",
      "神社(17)\n",
      "バス(17)\n",
      "山中(16)\n",
      "高天原(15)\n",
      "熊(15)\n",
      "襲(15)\n",
      "神(15)\n",
      "顔(15)\n",
      "三(14)\n",
      "岩戸(14)\n",
      "遊芸(14)\n",
      "宮崎(13)\n",
      "これ(13)\n",
      "日(12)\n",
      "町(12)\n",
      "国(12)\n",
      "村(12)\n",
      "自分(12)\n",
      "鵜(12)\n",
      "酒(12)\n",
      "ポ(12)\n"
     ]
    }
   ],
   "source": [
    "keys = sorted(worddic.items(),key = lambda x:x[1], reverse=True)\n",
    "for word,cnt in keys[:50]:\n",
    "    print(\"{0}({1})\\n\".format(word,cnt), end=\"\")"
   ]
  },
  {
   "cell_type": "code",
   "execution_count": null,
   "metadata": {},
   "outputs": [],
   "source": [
    "　"
   ]
  }
 ],
 "metadata": {
  "kernelspec": {
   "display_name": "Python 3",
   "language": "python",
   "name": "python3"
  },
  "language_info": {
   "codemirror_mode": {
    "name": "ipython",
    "version": 3
   },
   "file_extension": ".py",
   "mimetype": "text/x-python",
   "name": "python",
   "nbconvert_exporter": "python",
   "pygments_lexer": "ipython3",
   "version": "3.6.8"
  }
 },
 "nbformat": 4,
 "nbformat_minor": 2
}
